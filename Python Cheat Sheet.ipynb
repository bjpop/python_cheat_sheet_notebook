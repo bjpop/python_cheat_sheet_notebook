{
 "cells": [
  {
   "cell_type": "markdown",
   "metadata": {},
   "source": [
    "# Python Overview\n",
    "\n",
    "Authors:\n",
    "- Bernie Pope (VLSCI)\n",
    "- Catherine de Burgh-Day, Dept. of Physics, The University of Melbourne\n",
    "\n",
    "\n",
    "--------------------"
   ]
  },
  {
   "cell_type": "markdown",
   "metadata": {},
   "source": [
    "## General information\n",
    "\n",
    "- Python modules are stored in files containing a \".py\" suffix (e.g solver.py).\n",
    "- The main implementation of Python is called CPython (it is written in C). It is byte-code interpreted.\n",
    "- Python can be used in two modes: interactive and scripted. In interactive mode you enter a program fragment and Python evaluates it immediately and then prints the result before prompting for a new input. The interactive prompt is usually rendered as the chevron \">>>\". In scripted mode your program is stored in one or more files which are executed as one monolithic entity. Such programs behave like ordinary applications.\n",
    "- Python has automatic memory management (via garbage collection). Memory is allocated automatically as needed and freed automatically when no longer used.\n",
    "\n",
    "## Python 2 versus Python 3\n",
    "\n",
    "Currently there are two distinct flavours of Python available:\n",
    "- Python 2 (2.7.10 at the time of writing)\n",
    "- Python 3 (3.4.3 at the time of writing)\n",
    "\n",
    "Python 3 is the new and improved version of the language. Python 3 is not entirely backwards compatible, but the two versions share much in common. Version 2 is now in maintenance mode; new features will only be added to version 3. The public transition from 2 to 3 has been slower than some people would like. You are encouraged to use version 3 where possible. These notes are generally compatible with both versions, but we will point out key differences where necessary.\n",
    "\n",
    "## Indentation for grouping code blocks\n",
    "\n",
    "- Python uses indentation to group code blocks. Most other languages use some kind of brackets for grouping.\n",
    "- The recommended style is to use 4 space characters for a single indent (thus 8 spaces for two indents and so forth).\n",
    "- You are encouraged not to use tabs for indentation because there is no standard width for a tab.\n",
    "- Most good text editors can be configured so that that tab key is rendered as 4 space characters when editing Python code.\n",
    "\n",
    "## Style Guide\n",
    "\n",
    "A popular style guide for Python is known as [PEP 0008](https://www.python.org/dev/peps/pep-0008/), there is a corresponding tool called [pep8](https://pypi.python.org/pypi/pep8) which will check your code against the guide and report any transgressions.\n",
    "\n",
    "## Example, Python compared to C:\n",
    "\n",
    "Python program for computing factorial:\n"
   ]
  },
  {
   "cell_type": "code",
   "execution_count": 175,
   "metadata": {
    "collapsed": true
   },
   "outputs": [],
   "source": [
    "# Compute factorial of n,\n",
    "# assuming n >= 0\n",
    "\n",
    "def factorial(n):\n",
    "    result = 1\n",
    "    while n > 0:\n",
    "        result *= n\n",
    "        n -= 1\n",
    "    return result"
   ]
  },
  {
   "cell_type": "code",
   "execution_count": 176,
   "metadata": {
    "collapsed": false
   },
   "outputs": [
    {
     "name": "stdout",
     "output_type": "stream",
     "text": [
      "3628800\n"
     ]
    }
   ],
   "source": [
    "print(factorial(10))"
   ]
  },
  {
   "cell_type": "markdown",
   "metadata": {},
   "source": [
    "C program for computing factorial:"
   ]
  },
  {
   "cell_type": "markdown",
   "metadata": {},
   "source": [
    "```C\n",
    "#include <stdio.h>\n",
    "\n",
    "/* Compute factorial of n,\n",
    "   assuming n >= 0         */\n",
    "\n",
    "int factorial(int n) {\n",
    "    int result = 1;\n",
    "    while (n > 0) {\n",
    "        result *= n;\n",
    "        n -= 1;\n",
    "    }\n",
    "    return result;\n",
    "}\n",
    "\n",
    "int main(void) {\n",
    "    printf(\"%d\\n\", factorial(10));\n",
    "}\n",
    "```"
   ]
  },
  {
   "cell_type": "markdown",
   "metadata": {},
   "source": [
    "### Things to note:\n",
    "\n",
    "- The difference in commenting style.\n",
    "- C programs are statically typed, and you must declare the type of functions and variables. Python is dynamically typed.\n",
    "- Code blocks in C are grouped by braces `{ };` Python uses indentation for grouping.\n",
    "- The C program must have a `main` function. Python does not require a `main` function, it just executes the top-level statements of the module.\n",
    "- The result returned by the C function is limited to the size of a machine integer (say 32 bits). However, the result returned by the Python function is unlimited in its size - it can compute arbitrarily large factorials (up to the limit of the available memory in your computer).\n",
    "\n",
    "## Comments\n",
    "\n",
    "Program comments start with a hash character `\"#\"` and continue until the end of the line. There are no multi-line comment markers, but that can sometimes be faked with multi-line string literals.\n",
    "\n",
    "Examples:"
   ]
  },
  {
   "cell_type": "code",
   "execution_count": 177,
   "metadata": {
    "collapsed": false
   },
   "outputs": [],
   "source": [
    "# This is a comment.\n",
    "# This is another comment."
   ]
  },
  {
   "cell_type": "code",
   "execution_count": 178,
   "metadata": {
    "collapsed": true
   },
   "outputs": [],
   "source": [
    "x = 5 # This is a comment which follows some code."
   ]
  },
  {
   "cell_type": "code",
   "execution_count": 179,
   "metadata": {
    "collapsed": false
   },
   "outputs": [
    {
     "data": {
      "text/plain": [
       "'This is\\na multi-line\\nstring literal\\nwhich can sometimes act like\\na\\ncomment.\\n'"
      ]
     },
     "execution_count": 179,
     "metadata": {},
     "output_type": "execute_result"
    }
   ],
   "source": [
    "'''This is\n",
    "a multi-line\n",
    "string literal\n",
    "which can sometimes act like\n",
    "a\n",
    "comment.\n",
    "'''"
   ]
  },
  {
   "cell_type": "markdown",
   "metadata": {},
   "source": [
    "## Running a Python program\n",
    "\n",
    "There are many ways to run Python code:\n",
    "- You can run the interpreter in interactive mode. On Unix (Linux, OS X) you can run the python command at the command line.\n",
    "- If you have Python code stores in a file, say example.py, you can run it from the command line like so: `python example.py`.\n",
    "- You can use one of several integrated programming environments. Python ships with a fairly minimal one called IDLE, though many scientists prefer the more comprehensive IPython (now called Jupyter).\n",
    "- If your Python code was installed as a package (see below), then it may be executed like an ordinary application without the user being aware of how the program was implemented.\n",
    "\n",
    "## Objects and types\n",
    "\n",
    "- Every value in Python is an object (including functions!).\n",
    "- Objects can have attributes and methods, which are accessed via the dot `\".\"` operator.\n",
    "- All objects have a type.\n",
    "- Types are also objects!\n",
    "- Python is dynamically typed: you may get type errors at runtime but never at compile time.\n",
    "- `type(x)` returns the type of `x`.\n",
    "- Python variables may be assigned to values of different types at different points in the program.\n",
    "\n",
    "### Interactive examples:"
   ]
  },
  {
   "cell_type": "markdown",
   "metadata": {},
   "source": [
    "Create a list, assign to the variable x:"
   ]
  },
  {
   "cell_type": "code",
   "execution_count": 180,
   "metadata": {
    "collapsed": true
   },
   "outputs": [],
   "source": [
    "x = [3, 1, 2, 3]"
   ]
  },
  {
   "cell_type": "markdown",
   "metadata": {},
   "source": [
    "Ask for the type of the value assigned to x:"
   ]
  },
  {
   "cell_type": "code",
   "execution_count": 181,
   "metadata": {
    "collapsed": false
   },
   "outputs": [
    {
     "data": {
      "text/plain": [
       "list"
      ]
     },
     "execution_count": 181,
     "metadata": {},
     "output_type": "execute_result"
    }
   ],
   "source": [
    "type(x)"
   ]
  },
  {
   "cell_type": "markdown",
   "metadata": {},
   "source": [
    "Ask for the type of the first item in the list (an integer):"
   ]
  },
  {
   "cell_type": "code",
   "execution_count": 182,
   "metadata": {
    "collapsed": false
   },
   "outputs": [
    {
     "data": {
      "text/plain": [
       "int"
      ]
     },
     "execution_count": 182,
     "metadata": {},
     "output_type": "execute_result"
    }
   ],
   "source": [
    "type(x[0])"
   ]
  },
  {
   "cell_type": "markdown",
   "metadata": {},
   "source": [
    "Count the number of times 3 appears in the list by calling the `count` method:"
   ]
  },
  {
   "cell_type": "code",
   "execution_count": 183,
   "metadata": {
    "collapsed": false
   },
   "outputs": [
    {
     "data": {
      "text/plain": [
       "2"
      ]
     },
     "execution_count": 183,
     "metadata": {},
     "output_type": "execute_result"
    }
   ],
   "source": [
    "x.count(3)"
   ]
  },
  {
   "cell_type": "markdown",
   "metadata": {},
   "source": [
    "Sort the contents of the list in-place. Note that this mutates the list object! Also note that Python does not print the result in this case:"
   ]
  },
  {
   "cell_type": "code",
   "execution_count": 184,
   "metadata": {
    "collapsed": true
   },
   "outputs": [],
   "source": [
    "x.sort()"
   ]
  },
  {
   "cell_type": "markdown",
   "metadata": {},
   "source": [
    "Ask Python to show the value of the list assigned to the variable x (note it is now sorted):"
   ]
  },
  {
   "cell_type": "code",
   "execution_count": 185,
   "metadata": {
    "collapsed": false
   },
   "outputs": [
    {
     "data": {
      "text/plain": [
       "[1, 2, 3, 3]"
      ]
     },
     "execution_count": 185,
     "metadata": {},
     "output_type": "execute_result"
    }
   ],
   "source": [
    "x"
   ]
  },
  {
   "cell_type": "markdown",
   "metadata": {},
   "source": [
    "Assign x to an object of a different type (a float):"
   ]
  },
  {
   "cell_type": "code",
   "execution_count": 186,
   "metadata": {
    "collapsed": true
   },
   "outputs": [],
   "source": [
    "x = 3.142"
   ]
  },
  {
   "cell_type": "code",
   "execution_count": 187,
   "metadata": {
    "collapsed": false
   },
   "outputs": [
    {
     "data": {
      "text/plain": [
       "float"
      ]
     },
     "execution_count": 187,
     "metadata": {},
     "output_type": "execute_result"
    }
   ],
   "source": [
    "type(x)"
   ]
  },
  {
   "cell_type": "markdown",
   "metadata": {},
   "source": [
    "## Booleans\n",
    "\n",
    "- Represent truth values\n",
    "- Values: `True`, `False`\n",
    "- Type: `bool`\n",
    "- Operators: `and`, `or`, `not`. See [Boolean Operations — and, or, not](https://docs.python.org/3/library/stdtypes.html#boolean-operations-and-or-not) in the Python documentation for more details.\n",
    "- `bool(x)` will convert `x` to a boolean. The heuristic is that empty things and zero-ish things are `False`, everything else is `True` (but the user can override for their own types). See [truth value testing](https://docs.python.org/3/library/stdtypes.html#truth-value-testing) in the Python documentation for more details.\n",
    "- False values:\n",
    "    - `False`\n",
    "    - `0` (zero integer)\n",
    "    - `0.0` (zero float)\n",
    "    - `{}` (empty dictionary)\n",
    "    - `()` (empty tuple)\n",
    "    - `[]` (empty list)\n",
    "    - `''` (empty string)\n",
    "    - `None`\n",
    "- True values:\n",
    "    - everything which is not considered False\n",
    "    \n",
    "In numerical contexts `True` is considered equal to the integer `1` and `False` is considered equal to the integer `0`. However, these conversions are a common cause of bugs and should be avoided.\n",
    "\n",
    "Python will automatically test the truthiness of a value if it appears in a boolean context.\n",
    "\n",
    "Interactive examples:"
   ]
  },
  {
   "cell_type": "code",
   "execution_count": 188,
   "metadata": {
    "collapsed": false
   },
   "outputs": [
    {
     "data": {
      "text/plain": [
       "False"
      ]
     },
     "execution_count": 188,
     "metadata": {},
     "output_type": "execute_result"
    }
   ],
   "source": [
    "not True"
   ]
  },
  {
   "cell_type": "code",
   "execution_count": 189,
   "metadata": {
    "collapsed": false
   },
   "outputs": [
    {
     "data": {
      "text/plain": [
       "True"
      ]
     },
     "execution_count": 189,
     "metadata": {},
     "output_type": "execute_result"
    }
   ],
   "source": [
    "not False"
   ]
  },
  {
   "cell_type": "code",
   "execution_count": 190,
   "metadata": {
    "collapsed": false
   },
   "outputs": [
    {
     "data": {
      "text/plain": [
       "True"
      ]
     },
     "execution_count": 190,
     "metadata": {},
     "output_type": "execute_result"
    }
   ],
   "source": [
    "# empty is converted to False in boolean contexts\n",
    "not ()"
   ]
  },
  {
   "cell_type": "code",
   "execution_count": 191,
   "metadata": {
    "collapsed": false
   },
   "outputs": [
    {
     "data": {
      "text/plain": [
       "False"
      ]
     },
     "execution_count": 191,
     "metadata": {},
     "output_type": "execute_result"
    }
   ],
   "source": [
    "not [1,2,3]"
   ]
  },
  {
   "cell_type": "code",
   "execution_count": 192,
   "metadata": {
    "collapsed": false
   },
   "outputs": [
    {
     "data": {
      "text/plain": [
       "False"
      ]
     },
     "execution_count": 192,
     "metadata": {},
     "output_type": "execute_result"
    }
   ],
   "source": [
    "True and False"
   ]
  },
  {
   "cell_type": "code",
   "execution_count": 193,
   "metadata": {
    "collapsed": false
   },
   "outputs": [
    {
     "data": {
      "text/plain": [
       "True"
      ]
     },
     "execution_count": 193,
     "metadata": {},
     "output_type": "execute_result"
    }
   ],
   "source": [
    "True or False"
   ]
  },
  {
   "cell_type": "markdown",
   "metadata": {},
   "source": [
    "The example below may be a little bit surprising. See: [Boolean Operations — and, or, not](https://docs.python.org/3/library/stdtypes.html#boolean-operations-and-or-not)"
   ]
  },
  {
   "cell_type": "code",
   "execution_count": 194,
   "metadata": {
    "collapsed": false
   },
   "outputs": [
    {
     "data": {
      "text/plain": [
       "()"
      ]
     },
     "execution_count": 194,
     "metadata": {},
     "output_type": "execute_result"
    }
   ],
   "source": [
    "True and ()"
   ]
  },
  {
   "cell_type": "markdown",
   "metadata": {},
   "source": [
    "## Conditional Statements\n",
    "\n",
    "Conditional statements use the keywords: `if`, `elif`, `else`. The syntax for a conditional statement is:\n",
    "\n",
    "```Python\n",
    "if expression:\n",
    "    statement-block\n",
    "elif expression:\n",
    "    statement-block\n",
    "...\n",
    "else:\n",
    "    statement-block\n",
    "```\n",
    "\n",
    "A conditional statement must have exactly one `if` part. It may have zero or more `elif` parts, and a single optional `else` part at the end.\n",
    "\n",
    "The `if` and `elif` parts test the value of their boolean expressions. If the expression evaluates to something which is `True` or can be converted to `True` (see the rules for Booleans above) then the statement block immediately beneath that part is executed. Otherwise the following condition (if any) is tried. The `else` part, if it exists, is always and only executed if no preceding condition was `True`."
   ]
  },
  {
   "cell_type": "code",
   "execution_count": 195,
   "metadata": {
    "collapsed": false
   },
   "outputs": [
    {
     "name": "stdout",
     "output_type": "stream",
     "text": [
      "The condition considered False\n"
     ]
    }
   ],
   "source": [
    "if []:\n",
    "    print(\"The condition considered True\")\n",
    "else:\n",
    "    print(\"The condition considered False\")"
   ]
  },
  {
   "cell_type": "code",
   "execution_count": 196,
   "metadata": {
    "collapsed": false
   },
   "outputs": [
    {
     "name": "stdout",
     "output_type": "stream",
     "text": [
      "The condition considered True\n"
     ]
    }
   ],
   "source": [
    "if [1]:\n",
    "    print(\"The condition considered True\")\n",
    "else:\n",
    "    print(\"The condition considered False\")"
   ]
  },
  {
   "cell_type": "markdown",
   "metadata": {},
   "source": [
    "## Numbers and basic mathematics\n",
    "\n",
    "### Integers\n",
    "\n",
    "- Represent whole negative and positive numbers (and zero).\n",
    "- The range of integer values is unbounded (up to some limit defined by how much memory you have on your computer).\n",
    "- Python 2 distinguishes between two integer types `int` and `long`, and automatically promotes `int` to `long` where necessary, whereas Python 3 considers them all one type called `int`.\n",
    "- Base ten is the default literal notation: `42` (means `(4 * 10) + 2`)\n",
    "- Hexadecimal literals start with `0x`, octal literals start with `0o`, binary literals start with `0b`.\n",
    "- `int(x)` will try to convert `x` to an integer, `x` can be another numeric type (including booleans) or a string. You may specify an optional base for the conversion."
   ]
  },
  {
   "cell_type": "code",
   "execution_count": 197,
   "metadata": {
    "collapsed": false
   },
   "outputs": [
    {
     "data": {
      "text/plain": [
       "1606938044258990275541962092341162602522202993782792835301376L"
      ]
     },
     "execution_count": 197,
     "metadata": {},
     "output_type": "execute_result"
    }
   ],
   "source": [
    "2 ** 200"
   ]
  },
  {
   "cell_type": "code",
   "execution_count": 198,
   "metadata": {
    "collapsed": false
   },
   "outputs": [
    {
     "data": {
      "text/plain": [
       "16"
      ]
     },
     "execution_count": 198,
     "metadata": {},
     "output_type": "execute_result"
    }
   ],
   "source": [
    "0x10"
   ]
  },
  {
   "cell_type": "code",
   "execution_count": 199,
   "metadata": {
    "collapsed": false
   },
   "outputs": [
    {
     "data": {
      "text/plain": [
       "2"
      ]
     },
     "execution_count": 199,
     "metadata": {},
     "output_type": "execute_result"
    }
   ],
   "source": [
    "0b10"
   ]
  },
  {
   "cell_type": "code",
   "execution_count": 200,
   "metadata": {
    "collapsed": false
   },
   "outputs": [
    {
     "data": {
      "text/plain": [
       "True"
      ]
     },
     "execution_count": 200,
     "metadata": {},
     "output_type": "execute_result"
    }
   ],
   "source": [
    "-0 == 0"
   ]
  },
  {
   "cell_type": "code",
   "execution_count": 201,
   "metadata": {
    "collapsed": false
   },
   "outputs": [
    {
     "data": {
      "text/plain": [
       "123"
      ]
     },
     "execution_count": 201,
     "metadata": {},
     "output_type": "execute_result"
    }
   ],
   "source": [
    "# Convert a string to an integer\n",
    "int(\"123\")"
   ]
  },
  {
   "cell_type": "code",
   "execution_count": 202,
   "metadata": {
    "collapsed": false
   },
   "outputs": [
    {
     "ename": "ValueError",
     "evalue": "invalid literal for int() with base 10: '3.142'",
     "output_type": "error",
     "traceback": [
      "\u001b[0;31m---------------------------------------------------------------------------\u001b[0m",
      "\u001b[0;31mValueError\u001b[0m                                Traceback (most recent call last)",
      "\u001b[0;32m<ipython-input-202-ee82f783e82d>\u001b[0m in \u001b[0;36m<module>\u001b[0;34m()\u001b[0m\n\u001b[1;32m      1\u001b[0m \u001b[0;31m# This conversion fails with an exception\u001b[0m\u001b[0;34m\u001b[0m\u001b[0;34m\u001b[0m\u001b[0m\n\u001b[0;32m----> 2\u001b[0;31m \u001b[0mint\u001b[0m\u001b[0;34m(\u001b[0m\u001b[0;34m\"3.142\"\u001b[0m\u001b[0;34m)\u001b[0m\u001b[0;34m\u001b[0m\u001b[0m\n\u001b[0m",
      "\u001b[0;31mValueError\u001b[0m: invalid literal for int() with base 10: '3.142'"
     ]
    }
   ],
   "source": [
    "# This conversion fails with an exception\n",
    "int(\"3.142\")"
   ]
  },
  {
   "cell_type": "markdown",
   "metadata": {},
   "source": [
    "### Floating Point Numbers\n",
    "\n",
    "- Represent a finite approximation to the real numbers.\n",
    "- Type: `float`.\n",
    "- (On most platforms) Python uses IEEE-754 double precision floating point numbers which provide 53 bits of precision.\n",
    "- `sys.float_info` contains details about max, min, epsilon etcetera.\n",
    "- Literals can be in ordinary notation or in exponential notation:\n",
    "    - Ordinary: `3.142`\n",
    "    - Exponential: 314.2e-2\n",
    "- Ordinary notation requires a point `\".\"`, but digits following the point are optional.\n",
    "- Exponential notation does not require a point unless you have a fractional component.\n",
    "- `float(x)` will try to convert `x` to a floating point number, `x` can be another numeric type (including booleans) or a string.\n",
    "- Numeric operators will automatically convert integer arguments to floating point in mixed-type expressions.\n",
    "- In Python 3 the division operator computes a floating point result for integer arguments. However, in Python 2 it computes an integer result for integer arguments."
   ]
  },
  {
   "cell_type": "code",
   "execution_count": 203,
   "metadata": {
    "collapsed": false
   },
   "outputs": [
    {
     "data": {
      "text/plain": [
       "float"
      ]
     },
     "execution_count": 203,
     "metadata": {},
     "output_type": "execute_result"
    }
   ],
   "source": [
    "type(3.142)"
   ]
  },
  {
   "cell_type": "code",
   "execution_count": 204,
   "metadata": {
    "collapsed": false
   },
   "outputs": [
    {
     "data": {
      "text/plain": [
       "int"
      ]
     },
     "execution_count": 204,
     "metadata": {},
     "output_type": "execute_result"
    }
   ],
   "source": [
    "type(12)"
   ]
  },
  {
   "cell_type": "code",
   "execution_count": 205,
   "metadata": {
    "collapsed": false
   },
   "outputs": [
    {
     "data": {
      "text/plain": [
       "15.142"
      ]
     },
     "execution_count": 205,
     "metadata": {},
     "output_type": "execute_result"
    }
   ],
   "source": [
    "3.142 + 12"
   ]
  },
  {
   "cell_type": "code",
   "execution_count": 206,
   "metadata": {
    "collapsed": false
   },
   "outputs": [
    {
     "data": {
      "text/plain": [
       "True"
      ]
     },
     "execution_count": 206,
     "metadata": {},
     "output_type": "execute_result"
    }
   ],
   "source": [
    "3.142 == 314.2e-2"
   ]
  },
  {
   "cell_type": "code",
   "execution_count": 207,
   "metadata": {
    "collapsed": false
   },
   "outputs": [
    {
     "data": {
      "text/plain": [
       "True"
      ]
     },
     "execution_count": 207,
     "metadata": {},
     "output_type": "execute_result"
    }
   ],
   "source": [
    "3. == 3.0"
   ]
  },
  {
   "cell_type": "code",
   "execution_count": 208,
   "metadata": {
    "collapsed": false
   },
   "outputs": [
    {
     "ename": "ZeroDivisionError",
     "evalue": "integer division or modulo by zero",
     "output_type": "error",
     "traceback": [
      "\u001b[0;31m---------------------------------------------------------------------------\u001b[0m",
      "\u001b[0;31mZeroDivisionError\u001b[0m                         Traceback (most recent call last)",
      "\u001b[0;32m<ipython-input-208-e878fbd37c6c>\u001b[0m in \u001b[0;36m<module>\u001b[0;34m()\u001b[0m\n\u001b[1;32m      1\u001b[0m \u001b[0;31m# Divide by zero\u001b[0m\u001b[0;34m\u001b[0m\u001b[0;34m\u001b[0m\u001b[0m\n\u001b[0;32m----> 2\u001b[0;31m \u001b[0;36m1\u001b[0m\u001b[0;34m/\u001b[0m\u001b[0;36m0\u001b[0m\u001b[0;34m\u001b[0m\u001b[0m\n\u001b[0m",
      "\u001b[0;31mZeroDivisionError\u001b[0m: integer division or modulo by zero"
     ]
    }
   ],
   "source": [
    "# Divide by zero\n",
    "1/0"
   ]
  },
  {
   "cell_type": "code",
   "execution_count": 209,
   "metadata": {
    "collapsed": false
   },
   "outputs": [
    {
     "data": {
      "text/plain": [
       "3"
      ]
     },
     "execution_count": 209,
     "metadata": {},
     "output_type": "execute_result"
    }
   ],
   "source": [
    "# The value of this expression will depend on which version of Python you are using.\n",
    "# In version 2 it will return the integer 3\n",
    "# In version 3 it will return the floating point number 3.3333...\n",
    "10 / 3"
   ]
  },
  {
   "cell_type": "code",
   "execution_count": 210,
   "metadata": {
    "collapsed": false
   },
   "outputs": [
    {
     "data": {
      "text/plain": [
       "123.0"
      ]
     },
     "execution_count": 210,
     "metadata": {},
     "output_type": "execute_result"
    }
   ],
   "source": [
    "# Convert a string to a float, works just fine with strings that look like integers\n",
    "float(\"123\")"
   ]
  },
  {
   "cell_type": "code",
   "execution_count": 211,
   "metadata": {
    "collapsed": false
   },
   "outputs": [
    {
     "data": {
      "text/plain": [
       "3.142"
      ]
     },
     "execution_count": 211,
     "metadata": {},
     "output_type": "execute_result"
    }
   ],
   "source": [
    "float(\"3.142\")"
   ]
  },
  {
   "cell_type": "markdown",
   "metadata": {},
   "source": [
    "### Complex Numbers\n",
    "\n",
    "- Represent a finite approximation to the complex numbers.\n",
    "- Type: `complex`\n",
    "- A pair of floating point numbers: real +/- imaginary.\n",
    "- The real part is optional (defaults to 0). The imaginary part is followed immediately by the character `j`."
   ]
  },
  {
   "cell_type": "code",
   "execution_count": 212,
   "metadata": {
    "collapsed": false
   },
   "outputs": [
    {
     "data": {
      "text/plain": [
       "8j"
      ]
     },
     "execution_count": 212,
     "metadata": {},
     "output_type": "execute_result"
    }
   ],
   "source": [
    "5j + 3j"
   ]
  },
  {
   "cell_type": "code",
   "execution_count": 213,
   "metadata": {
    "collapsed": false
   },
   "outputs": [
    {
     "data": {
      "text/plain": [
       "complex"
      ]
     },
     "execution_count": 213,
     "metadata": {},
     "output_type": "execute_result"
    }
   ],
   "source": [
    "type(5j + 3j)"
   ]
  },
  {
   "cell_type": "code",
   "execution_count": 214,
   "metadata": {
    "collapsed": false
   },
   "outputs": [
    {
     "data": {
      "text/plain": [
       "(2-5j)"
      ]
     },
     "execution_count": 214,
     "metadata": {},
     "output_type": "execute_result"
    }
   ],
   "source": [
    "2-5j"
   ]
  },
  {
   "cell_type": "code",
   "execution_count": 215,
   "metadata": {
    "collapsed": false
   },
   "outputs": [
    {
     "data": {
      "text/plain": [
       "(2-2j)"
      ]
     },
     "execution_count": 215,
     "metadata": {},
     "output_type": "execute_result"
    }
   ],
   "source": [
    "2-5j + 3j"
   ]
  },
  {
   "cell_type": "markdown",
   "metadata": {},
   "source": [
    "## Numerical operators\n",
    "\n",
    "\n",
    "| Name | Operation | Precedence | Associativity | Notes |\n",
    "|:----:|-----------|------------|---------------|-------|\n",
    "| +    | add       | low        | left          | Can also be used to concatenate strings together. |\n",
    "| *    | multiply  | medium     | left          |        |\n",
    "| -    | subtract  | low        | left          |        |\n",
    "| /    | divide    | medium     | left          | In Python 3 the result is always a floating point number. In Python 2 the result is an integer if both operands are integers. |\n",
    "| //   | floor-divide | medium  | left          | divide then floor, result is an integer |\n",
    "| `**` | exponent  | high       | right         |        |\n",
    "| %    | modulus   | medium     | left          | remainder after division |"
   ]
  },
  {
   "cell_type": "code",
   "execution_count": 216,
   "metadata": {
    "collapsed": false
   },
   "outputs": [
    {
     "data": {
      "text/plain": [
       "23"
      ]
     },
     "execution_count": 216,
     "metadata": {},
     "output_type": "execute_result"
    }
   ],
   "source": [
    "# Compare the value of this expression to the next one\n",
    "3 + 4 * 5"
   ]
  },
  {
   "cell_type": "code",
   "execution_count": 217,
   "metadata": {
    "collapsed": false
   },
   "outputs": [
    {
     "data": {
      "text/plain": [
       "35"
      ]
     },
     "execution_count": 217,
     "metadata": {},
     "output_type": "execute_result"
    }
   ],
   "source": [
    "# Compare the value of this expression to the previous one\n",
    "(3 + 4) * 5"
   ]
  },
  {
   "cell_type": "code",
   "execution_count": 218,
   "metadata": {
    "collapsed": false
   },
   "outputs": [
    {
     "data": {
      "text/plain": [
       "3"
      ]
     },
     "execution_count": 218,
     "metadata": {},
     "output_type": "execute_result"
    }
   ],
   "source": [
    "10 // 3"
   ]
  },
  {
   "cell_type": "code",
   "execution_count": 219,
   "metadata": {
    "collapsed": false
   },
   "outputs": [
    {
     "data": {
      "text/plain": [
       "1"
      ]
     },
     "execution_count": 219,
     "metadata": {},
     "output_type": "execute_result"
    }
   ],
   "source": [
    "10 % 3"
   ]
  },
  {
   "cell_type": "code",
   "execution_count": 220,
   "metadata": {
    "collapsed": false
   },
   "outputs": [
    {
     "data": {
      "text/plain": [
       "2417851639229258349412352L"
      ]
     },
     "execution_count": 220,
     "metadata": {},
     "output_type": "execute_result"
    }
   ],
   "source": [
    "# Compare the value of this expression to the next one\n",
    "2 ** 3 ** 4"
   ]
  },
  {
   "cell_type": "code",
   "execution_count": 221,
   "metadata": {
    "collapsed": false
   },
   "outputs": [
    {
     "data": {
      "text/plain": [
       "4096"
      ]
     },
     "execution_count": 221,
     "metadata": {},
     "output_type": "execute_result"
    }
   ],
   "source": [
    "# Compare the value of this expression to the previous one\n",
    "(2 ** 3) ** 4"
   ]
  },
  {
   "cell_type": "markdown",
   "metadata": {},
   "source": [
    "## Strings\n",
    "\n",
    "- Represent text\n",
    "- Type: `str`\n",
    "- In Python 3, the `str` type contains [Unicode](https://en.wikipedia.org/wiki/Unicode) characters.\n",
    "- In Python 2, the `str` type contains [ASCII](https://en.wikipedia.org/wiki/ASCII) characters (sometimes called byte strings). Python 2 has a separate type for unicode strings, the type is called unicode; literals of this type are prefixed by the letter `u`.\n",
    "- String literals must be quoted. There are 3 quoting styles:\n",
    "   - single quote characters: `'hello'`\n",
    "   - double quote characters: `\"hello\"`\n",
    "   - triple quote characters: `'''hello'''` (three single quotes in a row) or `\"\"\"hello\"\"\"` (three double quote characters in a row)\n",
    "- The single quote and double quote versions of strings have the same value. The purpose of the different quotation styles is to make it convenient to have literal quotation marks inside strings (avoiding the need to escape the quote character).\n",
    "- Triple quoted strings can be written on multiple lines. The line breaks will be preserved within the string. Useful for docstrings (see section on functions).\n",
    "- The usual set of escape characters are supported:\n",
    "   - `\\n` newline\n",
    "   - `\\t` tab\n",
    "   - `\\\\` backslash\n",
    "   - `\\'` single quote\n",
    "   - `\\\"` double quote\n",
    "   - and many more\n",
    "- Python does not have a separate type for representing individual characters. Instead you use strings of length one.\n",
    "- Strings are iterable. If you iterate over a string (using a for loop) you process it one character at a time from left to right.\n",
    "- Strings can be indexed to obtain individual characters, e.g. `s[5]` (the result of which is a string of length one).\n",
    "- Indices are zero-based (but you may also use negative indices to access items with respect to the right end of the string).\n",
    "- Strings are immutable: you cannot modify a string once it has been created."
   ]
  },
  {
   "cell_type": "code",
   "execution_count": 222,
   "metadata": {
    "collapsed": false
   },
   "outputs": [
    {
     "data": {
      "text/plain": [
       "\"This string contains an inverted comma which won't be a problem inside quotation marks\""
      ]
     },
     "execution_count": 222,
     "metadata": {},
     "output_type": "execute_result"
    }
   ],
   "source": [
    "\"This string contains an inverted comma which won't be a problem inside quotation marks\""
   ]
  },
  {
   "cell_type": "code",
   "execution_count": 223,
   "metadata": {
    "collapsed": false
   },
   "outputs": [
    {
     "data": {
      "text/plain": [
       "'this \"quote\" will work'"
      ]
     },
     "execution_count": 223,
     "metadata": {},
     "output_type": "execute_result"
    }
   ],
   "source": [
    "'this \"quote\" will work'"
   ]
  },
  {
   "cell_type": "code",
   "execution_count": 224,
   "metadata": {
    "collapsed": false
   },
   "outputs": [
    {
     "ename": "SyntaxError",
     "evalue": "invalid syntax (<ipython-input-224-e449613dbda4>, line 1)",
     "output_type": "error",
     "traceback": [
      "\u001b[0;36m  File \u001b[0;32m\"<ipython-input-224-e449613dbda4>\"\u001b[0;36m, line \u001b[0;32m1\u001b[0m\n\u001b[0;31m    'this isn't going to work though'\u001b[0m\n\u001b[0m              ^\u001b[0m\n\u001b[0;31mSyntaxError\u001b[0m\u001b[0;31m:\u001b[0m invalid syntax\n"
     ]
    }
   ],
   "source": [
    "'this isn't going to work though'"
   ]
  },
  {
   "cell_type": "code",
   "execution_count": 225,
   "metadata": {
    "collapsed": false
   },
   "outputs": [
    {
     "data": {
      "text/plain": [
       "str"
      ]
     },
     "execution_count": 225,
     "metadata": {},
     "output_type": "execute_result"
    }
   ],
   "source": [
    "type(\"hello\")"
   ]
  },
  {
   "cell_type": "code",
   "execution_count": 226,
   "metadata": {
    "collapsed": false
   },
   "outputs": [
    {
     "data": {
      "text/plain": [
       "True"
      ]
     },
     "execution_count": 226,
     "metadata": {},
     "output_type": "execute_result"
    }
   ],
   "source": [
    "\"hello\" == 'hello'"
   ]
  },
  {
   "cell_type": "code",
   "execution_count": 227,
   "metadata": {
    "collapsed": false
   },
   "outputs": [
    {
     "data": {
      "text/plain": [
       "'This string\\nis on\\nmultiple\\n   lines'"
      ]
     },
     "execution_count": 227,
     "metadata": {},
     "output_type": "execute_result"
    }
   ],
   "source": [
    "'''This string\n",
    "is on\n",
    "multiple\n",
    "   lines'''"
   ]
  },
  {
   "cell_type": "code",
   "execution_count": 228,
   "metadata": {
    "collapsed": false
   },
   "outputs": [
    {
     "data": {
      "text/plain": [
       "'BONJOUR'"
      ]
     },
     "execution_count": 228,
     "metadata": {},
     "output_type": "execute_result"
    }
   ],
   "source": [
    "\"bonjour\".upper()"
   ]
  },
  {
   "cell_type": "code",
   "execution_count": 229,
   "metadata": {
    "collapsed": false
   },
   "outputs": [
    {
     "data": {
      "text/plain": [
       "7"
      ]
     },
     "execution_count": 229,
     "metadata": {},
     "output_type": "execute_result"
    }
   ],
   "source": [
    "len(\"bonjour\")"
   ]
  },
  {
   "cell_type": "code",
   "execution_count": 230,
   "metadata": {
    "collapsed": false
   },
   "outputs": [
    {
     "data": {
      "text/plain": [
       "True"
      ]
     },
     "execution_count": 230,
     "metadata": {},
     "output_type": "execute_result"
    }
   ],
   "source": [
    "\"bonjour\".startswith(\"b\")"
   ]
  },
  {
   "cell_type": "code",
   "execution_count": 231,
   "metadata": {
    "collapsed": false
   },
   "outputs": [
    {
     "data": {
      "text/plain": [
       "['cat', 'sat', 'flat']"
      ]
     },
     "execution_count": 231,
     "metadata": {},
     "output_type": "execute_result"
    }
   ],
   "source": [
    "\"cat,sat,flat\".split(\",\")"
   ]
  },
  {
   "cell_type": "code",
   "execution_count": 232,
   "metadata": {
    "collapsed": false
   },
   "outputs": [
    {
     "name": "stdout",
     "output_type": "stream",
     "text": [
      "一丁丂七丄\n"
     ]
    }
   ],
   "source": [
    "# Print the first 5 Chinese unicode characters\n",
    "# Note: Python 2 requires the 'u' at the front of the string, but Python 3 does not \n",
    "# (it is allowed in Python 3 but not required)\n",
    "print(u'\\u4E00\\u4E01\\u4E02\\u4E03\\u4E04')"
   ]
  },
  {
   "cell_type": "code",
   "execution_count": 233,
   "metadata": {
    "collapsed": true
   },
   "outputs": [],
   "source": [
    "x = \"floyd\""
   ]
  },
  {
   "cell_type": "code",
   "execution_count": 234,
   "metadata": {
    "collapsed": false
   },
   "outputs": [
    {
     "data": {
      "text/plain": [
       "'f'"
      ]
     },
     "execution_count": 234,
     "metadata": {},
     "output_type": "execute_result"
    }
   ],
   "source": [
    "x[0]"
   ]
  },
  {
   "cell_type": "code",
   "execution_count": 235,
   "metadata": {
    "collapsed": false
   },
   "outputs": [
    {
     "data": {
      "text/plain": [
       "'hello world'"
      ]
     },
     "execution_count": 235,
     "metadata": {},
     "output_type": "execute_result"
    }
   ],
   "source": [
    "\"hello\" + \" \" + \"world\""
   ]
  },
  {
   "cell_type": "markdown",
   "metadata": {},
   "source": [
    "### Example program using strings"
   ]
  },
  {
   "cell_type": "code",
   "execution_count": 238,
   "metadata": {
    "collapsed": false
   },
   "outputs": [
    {
     "name": "stdout",
     "output_type": "stream",
     "text": [
      "Enter string: hello\n",
      "2\n"
     ]
    }
   ],
   "source": [
    "# Prompt the user to input a string:\n",
    "input = raw_input(\"Enter string: \")\n",
    "\n",
    "# Count the number of vowels in the input string\n",
    "vowels = 'aeiou'\n",
    "count = 0 \n",
    "for char in input:\n",
    "    if char in vowels:\n",
    "        count += 1\n",
    "\n",
    "# Print the count to the standard output\n",
    "print(count)"
   ]
  },
  {
   "cell_type": "markdown",
   "metadata": {
    "collapsed": true
   },
   "source": [
    "## Lists\n",
    "\n",
    "- Represent mutable ordered sequences of values.\n",
    "- Type: `list`\n",
    "- List literals are written in between square brackets, e.g. `[1, 2, 3]`\n",
    "- List elements can be objects of any type (including other lists).\n",
    "- Like strings, lists can be indexed like so: `x[3]`\n",
    "- Indices are zero-based (but you may also use negative indices to access items with respect to the right end of the list).\n",
    "- Lists are mutable. You can update items, delete items and add new items.\n",
    "- Indexing into a list is a constant time (amortised) operation."
   ]
  },
  {
   "cell_type": "code",
   "execution_count": 239,
   "metadata": {
    "collapsed": false
   },
   "outputs": [
    {
     "data": {
      "text/plain": [
       "list"
      ]
     },
     "execution_count": 239,
     "metadata": {},
     "output_type": "execute_result"
    }
   ],
   "source": [
    "type([1, 2, 3])"
   ]
  },
  {
   "cell_type": "code",
   "execution_count": 240,
   "metadata": {
    "collapsed": true
   },
   "outputs": [],
   "source": [
    "x = []"
   ]
  },
  {
   "cell_type": "code",
   "execution_count": 241,
   "metadata": {
    "collapsed": false
   },
   "outputs": [
    {
     "data": {
      "text/plain": [
       "0"
      ]
     },
     "execution_count": 241,
     "metadata": {},
     "output_type": "execute_result"
    }
   ],
   "source": [
    "len(x)"
   ]
  },
  {
   "cell_type": "code",
   "execution_count": 242,
   "metadata": {
    "collapsed": true
   },
   "outputs": [],
   "source": [
    "x.append(\"hello\")"
   ]
  },
  {
   "cell_type": "code",
   "execution_count": 243,
   "metadata": {
    "collapsed": false
   },
   "outputs": [
    {
     "data": {
      "text/plain": [
       "['hello']"
      ]
     },
     "execution_count": 243,
     "metadata": {},
     "output_type": "execute_result"
    }
   ],
   "source": [
    "x"
   ]
  },
  {
   "cell_type": "code",
   "execution_count": 244,
   "metadata": {
    "collapsed": false
   },
   "outputs": [
    {
     "data": {
      "text/plain": [
       "1"
      ]
     },
     "execution_count": 244,
     "metadata": {},
     "output_type": "execute_result"
    }
   ],
   "source": [
    "len(x)"
   ]
  },
  {
   "cell_type": "code",
   "execution_count": 245,
   "metadata": {
    "collapsed": false
   },
   "outputs": [
    {
     "data": {
      "text/plain": [
       "'hello'"
      ]
     },
     "execution_count": 245,
     "metadata": {},
     "output_type": "execute_result"
    }
   ],
   "source": [
    "x[0]"
   ]
  },
  {
   "cell_type": "code",
   "execution_count": 246,
   "metadata": {
    "collapsed": true
   },
   "outputs": [],
   "source": [
    "x.insert(0, True)"
   ]
  },
  {
   "cell_type": "code",
   "execution_count": 247,
   "metadata": {
    "collapsed": false
   },
   "outputs": [
    {
     "data": {
      "text/plain": [
       "[True, 'hello']"
      ]
     },
     "execution_count": 247,
     "metadata": {},
     "output_type": "execute_result"
    }
   ],
   "source": [
    "x"
   ]
  },
  {
   "cell_type": "code",
   "execution_count": 248,
   "metadata": {
    "collapsed": true
   },
   "outputs": [],
   "source": [
    "del x[1]"
   ]
  },
  {
   "cell_type": "code",
   "execution_count": 249,
   "metadata": {
    "collapsed": false
   },
   "outputs": [
    {
     "data": {
      "text/plain": [
       "[True]"
      ]
     },
     "execution_count": 249,
     "metadata": {},
     "output_type": "execute_result"
    }
   ],
   "source": [
    "x"
   ]
  },
  {
   "cell_type": "code",
   "execution_count": 250,
   "metadata": {
    "collapsed": true
   },
   "outputs": [],
   "source": [
    "x += [42, \"Newton\", 3.142]"
   ]
  },
  {
   "cell_type": "code",
   "execution_count": 251,
   "metadata": {
    "collapsed": false
   },
   "outputs": [
    {
     "data": {
      "text/plain": [
       "[True, 42, 'Newton', 3.142]"
      ]
     },
     "execution_count": 251,
     "metadata": {},
     "output_type": "execute_result"
    }
   ],
   "source": [
    "x"
   ]
  },
  {
   "cell_type": "markdown",
   "metadata": {},
   "source": [
    "## Dictionaries\n",
    "\n",
    "- Represent finite mappings from **keys** to **values**.\n",
    "- Are implemented as hash tables. The key objects must be hashable (which rules out mutable objects, such as lists).\n",
    "- Type: `dict`\n",
    "- Dictionary literals are written inside curly brackets, with key-value pairs separated by colons: e.g. `{12: \"XII\", 6: \"VI\"}`\n",
    "- Dictionaries can be indexed by keys. If the key exists in the dictionary its corresponding value is returned, otherwise a `KeyError` exception is raised.\n",
    "- The cost of indexing a dictionary is proportional to the time taken to hash the key. For many keys this can be considered constant time. For variable sized objects, such as strings, this can be considered to be proportional to the size of the object.\n",
    "- Iterating over a dictionary yields one key at a time. All keys in the dictionary are visited exactly once. The order in which the keys are visited is arbitrary.\n",
    "- You may test if an object is a key of a dictionary using the `in` operator."
   ]
  },
  {
   "cell_type": "code",
   "execution_count": 252,
   "metadata": {
    "collapsed": false
   },
   "outputs": [
    {
     "data": {
      "text/plain": [
       "dict"
      ]
     },
     "execution_count": 252,
     "metadata": {},
     "output_type": "execute_result"
    }
   ],
   "source": [
    "type({ 12: \"XII\", 6: \"VI\" })"
   ]
  },
  {
   "cell_type": "code",
   "execution_count": 253,
   "metadata": {
    "collapsed": true
   },
   "outputs": [],
   "source": [
    "friends = {}"
   ]
  },
  {
   "cell_type": "code",
   "execution_count": 254,
   "metadata": {
    "collapsed": true
   },
   "outputs": [],
   "source": [
    "friends['Fred'] = ['Barney', 'Dino']"
   ]
  },
  {
   "cell_type": "code",
   "execution_count": 255,
   "metadata": {
    "collapsed": false
   },
   "outputs": [
    {
     "data": {
      "text/plain": [
       "{'Fred': ['Barney', 'Dino']}"
      ]
     },
     "execution_count": 255,
     "metadata": {},
     "output_type": "execute_result"
    }
   ],
   "source": [
    "friends"
   ]
  },
  {
   "cell_type": "code",
   "execution_count": 256,
   "metadata": {
    "collapsed": false
   },
   "outputs": [
    {
     "data": {
      "text/plain": [
       "['Barney', 'Dino']"
      ]
     },
     "execution_count": 256,
     "metadata": {},
     "output_type": "execute_result"
    }
   ],
   "source": [
    "friends['Fred']"
   ]
  },
  {
   "cell_type": "code",
   "execution_count": 257,
   "metadata": {
    "collapsed": false
   },
   "outputs": [
    {
     "ename": "KeyError",
     "evalue": "'Barney'",
     "output_type": "error",
     "traceback": [
      "\u001b[0;31m---------------------------------------------------------------------------\u001b[0m",
      "\u001b[0;31mKeyError\u001b[0m                                  Traceback (most recent call last)",
      "\u001b[0;32m<ipython-input-257-27006dee6555>\u001b[0m in \u001b[0;36m<module>\u001b[0;34m()\u001b[0m\n\u001b[1;32m      1\u001b[0m \u001b[0;31m# 'Barney' is not a key in the dictionary\u001b[0m\u001b[0;34m\u001b[0m\u001b[0;34m\u001b[0m\u001b[0m\n\u001b[0;32m----> 2\u001b[0;31m \u001b[0mfriends\u001b[0m\u001b[0;34m[\u001b[0m\u001b[0;34m'Barney'\u001b[0m\u001b[0;34m]\u001b[0m\u001b[0;34m\u001b[0m\u001b[0m\n\u001b[0m",
      "\u001b[0;31mKeyError\u001b[0m: 'Barney'"
     ]
    }
   ],
   "source": [
    "# 'Barney' is not a key in the dictionary\n",
    "friends['Barney']"
   ]
  },
  {
   "cell_type": "raw",
   "metadata": {},
   "source": [
    "friends['Wilma'] = ['Betty']"
   ]
  },
  {
   "cell_type": "code",
   "execution_count": 258,
   "metadata": {
    "collapsed": false
   },
   "outputs": [
    {
     "data": {
      "text/plain": [
       "{'Fred': ['Barney', 'Dino']}"
      ]
     },
     "execution_count": 258,
     "metadata": {},
     "output_type": "execute_result"
    }
   ],
   "source": [
    "friends"
   ]
  },
  {
   "cell_type": "code",
   "execution_count": 259,
   "metadata": {
    "collapsed": false
   },
   "outputs": [
    {
     "data": {
      "text/plain": [
       "['Fred']"
      ]
     },
     "execution_count": 259,
     "metadata": {},
     "output_type": "execute_result"
    }
   ],
   "source": [
    "friends.keys()"
   ]
  },
  {
   "cell_type": "code",
   "execution_count": 260,
   "metadata": {
    "collapsed": false
   },
   "outputs": [
    {
     "data": {
      "text/plain": [
       "[['Barney', 'Dino']]"
      ]
     },
     "execution_count": 260,
     "metadata": {},
     "output_type": "execute_result"
    }
   ],
   "source": [
    "friends.values()"
   ]
  },
  {
   "cell_type": "code",
   "execution_count": 261,
   "metadata": {
    "collapsed": false
   },
   "outputs": [
    {
     "data": {
      "text/plain": [
       "False"
      ]
     },
     "execution_count": 261,
     "metadata": {},
     "output_type": "execute_result"
    }
   ],
   "source": [
    "'Dino' in friends"
   ]
  },
  {
   "cell_type": "code",
   "execution_count": 262,
   "metadata": {
    "collapsed": false
   },
   "outputs": [
    {
     "data": {
      "text/plain": [
       "False"
      ]
     },
     "execution_count": 262,
     "metadata": {},
     "output_type": "execute_result"
    }
   ],
   "source": [
    "'Wilma' in friends"
   ]
  },
  {
   "cell_type": "markdown",
   "metadata": {},
   "source": [
    "### Example program using a dictionary"
   ]
  },
  {
   "cell_type": "code",
   "execution_count": 263,
   "metadata": {
    "collapsed": false
   },
   "outputs": [
    {
     "name": "stdout",
     "output_type": "stream",
     "text": [
      "1 7\n",
      "2 1\n",
      "3 3\n",
      "4 3\n"
     ]
    }
   ],
   "source": [
    "# Compute and print a histogram of a sequence of integers\n",
    "\n",
    "integers = [1, 3, 4, 1, 1, 4, 3, 4, 3, 1, 1, 1, 1, 2]\n",
    "\n",
    "histogram = {}\n",
    "\n",
    "# Iterate over each integer\n",
    "for next_integer in integers:\n",
    "    # Update the histogram accordingly\n",
    "    if next_integer in histogram:\n",
    "        # We've seen this integer before\n",
    "        histogram[next_integer] += 1\n",
    "    else:\n",
    "        # First occurrence of this integer in the input\n",
    "        histogram[next_integer] = 1\n",
    "\n",
    "# Print each key: value pair in the histogram in ascending\n",
    "# sorted order of keys\n",
    "for key in sorted(histogram):\n",
    "    print(\"{} {}\".format(key, histogram[key]))"
   ]
  },
  {
   "cell_type": "markdown",
   "metadata": {},
   "source": [
    "## Tuples\n",
    "\n",
    "- Represent immutable ordered sequences of values.\n",
    "- Very much like lists except they cannot be modified once created.\n",
    "- Type: `tuple`\n",
    "- Literals are written in between parentheses: `(1, 2, 3)`\n",
    "- They can be used as keys in dictionaries (unlike lists)."
   ]
  },
  {
   "cell_type": "code",
   "execution_count": 264,
   "metadata": {
    "collapsed": true
   },
   "outputs": [],
   "source": [
    "x = (1, True, 'hello')"
   ]
  },
  {
   "cell_type": "code",
   "execution_count": 265,
   "metadata": {
    "collapsed": false
   },
   "outputs": [
    {
     "data": {
      "text/plain": [
       "tuple"
      ]
     },
     "execution_count": 265,
     "metadata": {},
     "output_type": "execute_result"
    }
   ],
   "source": [
    "type(x)"
   ]
  },
  {
   "cell_type": "code",
   "execution_count": 266,
   "metadata": {
    "collapsed": false
   },
   "outputs": [
    {
     "data": {
      "text/plain": [
       "'hello'"
      ]
     },
     "execution_count": 266,
     "metadata": {},
     "output_type": "execute_result"
    }
   ],
   "source": [
    "x[2]"
   ]
  },
  {
   "cell_type": "code",
   "execution_count": 267,
   "metadata": {
    "collapsed": false
   },
   "outputs": [
    {
     "data": {
      "text/plain": [
       "3"
      ]
     },
     "execution_count": 267,
     "metadata": {},
     "output_type": "execute_result"
    }
   ],
   "source": [
    "len(x)"
   ]
  },
  {
   "cell_type": "code",
   "execution_count": 268,
   "metadata": {
    "collapsed": false
   },
   "outputs": [
    {
     "ename": "TypeError",
     "evalue": "'tuple' object does not support item assignment",
     "output_type": "error",
     "traceback": [
      "\u001b[0;31m---------------------------------------------------------------------------\u001b[0m",
      "\u001b[0;31mTypeError\u001b[0m                                 Traceback (most recent call last)",
      "\u001b[0;32m<ipython-input-268-4c634f1392e8>\u001b[0m in \u001b[0;36m<module>\u001b[0;34m()\u001b[0m\n\u001b[1;32m      1\u001b[0m \u001b[0;31m# Tuples are immutable, so you cannot modify them once created\u001b[0m\u001b[0;34m\u001b[0m\u001b[0;34m\u001b[0m\u001b[0m\n\u001b[0;32m----> 2\u001b[0;31m \u001b[0mx\u001b[0m\u001b[0;34m[\u001b[0m\u001b[0;36m1\u001b[0m\u001b[0;34m]\u001b[0m \u001b[0;34m=\u001b[0m \u001b[0;36m42\u001b[0m\u001b[0;34m\u001b[0m\u001b[0m\n\u001b[0m",
      "\u001b[0;31mTypeError\u001b[0m: 'tuple' object does not support item assignment"
     ]
    }
   ],
   "source": [
    "# Tuples are immutable, so you cannot modify them once created\n",
    "x[1] = 42"
   ]
  },
  {
   "cell_type": "code",
   "execution_count": 269,
   "metadata": {
    "collapsed": true
   },
   "outputs": [],
   "source": [
    "dictionary = {}"
   ]
  },
  {
   "cell_type": "code",
   "execution_count": 270,
   "metadata": {
    "collapsed": true
   },
   "outputs": [],
   "source": [
    "# Tuples can be keys of dictionaries\n",
    "dictionary[(1,2)] = 5"
   ]
  },
  {
   "cell_type": "code",
   "execution_count": 271,
   "metadata": {
    "collapsed": false
   },
   "outputs": [
    {
     "data": {
      "text/plain": [
       "5"
      ]
     },
     "execution_count": 271,
     "metadata": {},
     "output_type": "execute_result"
    }
   ],
   "source": [
    "dictionary[(1,2)]"
   ]
  },
  {
   "cell_type": "code",
   "execution_count": 272,
   "metadata": {
    "collapsed": false
   },
   "outputs": [
    {
     "ename": "TypeError",
     "evalue": "unhashable type: 'list'",
     "output_type": "error",
     "traceback": [
      "\u001b[0;31m---------------------------------------------------------------------------\u001b[0m",
      "\u001b[0;31mTypeError\u001b[0m                                 Traceback (most recent call last)",
      "\u001b[0;32m<ipython-input-272-f0a482936895>\u001b[0m in \u001b[0;36m<module>\u001b[0;34m()\u001b[0m\n\u001b[1;32m      1\u001b[0m \u001b[0;31m# Lists cannot be keys of dictionaries\u001b[0m\u001b[0;34m\u001b[0m\u001b[0;34m\u001b[0m\u001b[0m\n\u001b[0;32m----> 2\u001b[0;31m \u001b[0mdictionary\u001b[0m\u001b[0;34m[\u001b[0m\u001b[0;34m[\u001b[0m\u001b[0;36m1\u001b[0m\u001b[0;34m,\u001b[0m\u001b[0;36m2\u001b[0m\u001b[0;34m]\u001b[0m\u001b[0;34m]\u001b[0m \u001b[0;34m=\u001b[0m \u001b[0;36m5\u001b[0m\u001b[0;34m\u001b[0m\u001b[0m\n\u001b[0m",
      "\u001b[0;31mTypeError\u001b[0m: unhashable type: 'list'"
     ]
    }
   ],
   "source": [
    "# Lists cannot be keys of dictionaries\n",
    "dictionary[[1,2]] = 5"
   ]
  },
  {
   "cell_type": "markdown",
   "metadata": {},
   "source": [
    "## Sets\n",
    "\n",
    "- Sets are unordered collections of objects, containing no duplicates.\n",
    "- Type: `set`\n",
    "- Set literals are written in between curly brackets `{ ... }`, but don't confuse them with dictionaries. Sets only have values, not keys-and-values.\n",
    "- Sets support standard mathematical operations such as union, intersection and difference.\n",
    "- Sets support fast insertion and lookup."
   ]
  },
  {
   "cell_type": "code",
   "execution_count": 299,
   "metadata": {
    "collapsed": true
   },
   "outputs": [],
   "source": [
    "x = {1, True, 'foo'}"
   ]
  },
  {
   "cell_type": "code",
   "execution_count": 300,
   "metadata": {
    "collapsed": false
   },
   "outputs": [
    {
     "data": {
      "text/plain": [
       "set"
      ]
     },
     "execution_count": 300,
     "metadata": {},
     "output_type": "execute_result"
    }
   ],
   "source": [
    "type(x)"
   ]
  },
  {
   "cell_type": "code",
   "execution_count": 309,
   "metadata": {
    "collapsed": false
   },
   "outputs": [
    {
     "data": {
      "text/plain": [
       "2"
      ]
     },
     "execution_count": 309,
     "metadata": {},
     "output_type": "execute_result"
    }
   ],
   "source": [
    "len(x)"
   ]
  },
  {
   "cell_type": "code",
   "execution_count": 310,
   "metadata": {
    "collapsed": true
   },
   "outputs": [],
   "source": [
    "x.add(12)"
   ]
  },
  {
   "cell_type": "code",
   "execution_count": 311,
   "metadata": {
    "collapsed": false
   },
   "outputs": [
    {
     "data": {
      "text/plain": [
       "{True, 12, 'foo'}"
      ]
     },
     "execution_count": 311,
     "metadata": {},
     "output_type": "execute_result"
    }
   ],
   "source": [
    "x"
   ]
  },
  {
   "cell_type": "code",
   "execution_count": 312,
   "metadata": {
    "collapsed": false
   },
   "outputs": [
    {
     "data": {
      "text/plain": [
       "True"
      ]
     },
     "execution_count": 312,
     "metadata": {},
     "output_type": "execute_result"
    }
   ],
   "source": [
    "'foo' in x"
   ]
  },
  {
   "cell_type": "code",
   "execution_count": 313,
   "metadata": {
    "collapsed": false
   },
   "outputs": [
    {
     "data": {
      "text/plain": [
       "False"
      ]
     },
     "execution_count": 313,
     "metadata": {},
     "output_type": "execute_result"
    }
   ],
   "source": [
    "42 in x"
   ]
  },
  {
   "cell_type": "code",
   "execution_count": 314,
   "metadata": {
    "collapsed": false
   },
   "outputs": [
    {
     "data": {
      "text/plain": [
       "{None, True, 12, 88, 'foo'}"
      ]
     },
     "execution_count": 314,
     "metadata": {},
     "output_type": "execute_result"
    }
   ],
   "source": [
    "x.union({88, None})"
   ]
  },
  {
   "cell_type": "code",
   "execution_count": 315,
   "metadata": {
    "collapsed": false
   },
   "outputs": [
    {
     "data": {
      "text/plain": [
       "{1}"
      ]
     },
     "execution_count": 315,
     "metadata": {},
     "output_type": "execute_result"
    }
   ],
   "source": [
    "x.intersection({1,3})"
   ]
  },
  {
   "cell_type": "code",
   "execution_count": 316,
   "metadata": {
    "collapsed": false
   },
   "outputs": [
    {
     "data": {
      "text/plain": [
       "{True, 12}"
      ]
     },
     "execution_count": 316,
     "metadata": {},
     "output_type": "execute_result"
    }
   ],
   "source": [
    "x.difference({'foo', 99})"
   ]
  },
  {
   "cell_type": "markdown",
   "metadata": {},
   "source": [
    "## Loops\n",
    "\n",
    "### While loops\n",
    "\n",
    "- Iterate until condition is `False`.\n",
    "- Syntax:\n",
    "```Python\n",
    "while expression:\n",
    "    statement_block\n",
    "```\n",
    "- The value of the boolean expression is tested. If it evaluates to `True` then the statement block is executed once, before repeating the loop. If it evaluates to `False` then the program continues execution immediately after the loop."
   ]
  },
  {
   "cell_type": "code",
   "execution_count": 273,
   "metadata": {
    "collapsed": true
   },
   "outputs": [],
   "source": [
    "def factorial(n):\n",
    "    result = 1\n",
    "    while n > 0:\n",
    "        result *= n\n",
    "        n -= 1\n",
    "    return result"
   ]
  },
  {
   "cell_type": "code",
   "execution_count": 274,
   "metadata": {
    "collapsed": false
   },
   "outputs": [
    {
     "data": {
      "text/plain": [
       "3628800"
      ]
     },
     "execution_count": 274,
     "metadata": {},
     "output_type": "execute_result"
    }
   ],
   "source": [
    "factorial(10)"
   ]
  },
  {
   "cell_type": "markdown",
   "metadata": {},
   "source": [
    "### For loops\n",
    "\n",
    "- Iterate over each item in a collection (e.g. list, string, tuple, dictionary, file).\n",
    "- Syntax:\n",
    "```Python\n",
    "for variable in expression:\n",
    "    statement_block\n",
    "```\n",
    "- Each item from the iterator expression is selected and assigned to the variable, then the statement block is executed. The loop ends when every item in the iterator has been visited.\n",
    "- The order of items visited in the iterator depends on the type of the iterator. Lists, strings and tuples proceed in a left-to-right fashion. Files proceed one line at a time. Dictionaries proceed in an arbitrary order.\n",
    "- The `range()` function is useful for generating iterators of numbers within a range. Note that the lower bound is inclusive and the upper bound is exclusive."
   ]
  },
  {
   "cell_type": "code",
   "execution_count": 275,
   "metadata": {
    "collapsed": true
   },
   "outputs": [],
   "source": [
    "def factorial(n):\n",
    "    result = 1\n",
    "    for item in range(1, n + 1):\n",
    "        result *= item\n",
    "    return result"
   ]
  },
  {
   "cell_type": "code",
   "execution_count": 276,
   "metadata": {
    "collapsed": false
   },
   "outputs": [
    {
     "data": {
      "text/plain": [
       "3628800"
      ]
     },
     "execution_count": 276,
     "metadata": {},
     "output_type": "execute_result"
    }
   ],
   "source": [
    "factorial(10)"
   ]
  },
  {
   "cell_type": "markdown",
   "metadata": {},
   "source": [
    "### Break and continue\n",
    "\n",
    "- Both types of loops support the `break` and `continue` keywords.\n",
    "- `break` terminates the loop immediately.\n",
    "- `continue` jumps immediately back to the start of the loop.\n",
    "- They can sometimes simplify the conditional logic of a loop, but should be used sparingly."
   ]
  },
  {
   "cell_type": "markdown",
   "metadata": {},
   "source": [
    "## Functions\n",
    "\n",
    "- Allow you to define reusable abstractions. Sometimes called procedures.\n",
    "- Are generally defined at the top level of a module, and can also be nested.\n",
    "- Type: `function`\n",
    "- Named functions are bound to a variable name and may have complex bodies.\n",
    "- Anonymous functions are used in-line, and may only have expression bodies.\n",
    "- Named function syntax:\n",
    "```Python\n",
    "def variable(parameter_list):\n",
    "    statement_block\n",
    "```\n",
    "- Anonymous function syntax:]\n",
    "```Python\n",
    "lambda parameter_list: expression\n",
    "```"
   ]
  },
  {
   "cell_type": "code",
   "execution_count": 298,
   "metadata": {
    "collapsed": false
   },
   "outputs": [
    {
     "name": "stdout",
     "output_type": "stream",
     "text": [
      "2000 True\n",
      "2001 False\n",
      "2002 False\n",
      "2003 False\n",
      "2004 True\n",
      "2005 False\n",
      "2006 False\n",
      "2007 False\n",
      "2008 True\n",
      "2009 False\n",
      "2010 False\n",
      "2011 False\n",
      "2012 True\n",
      "2013 False\n",
      "2014 False\n",
      "2015 False\n",
      "2016 True\n",
      "2017 False\n",
      "2018 False\n",
      "2019 False\n",
      "2020 True\n"
     ]
    }
   ],
   "source": [
    "def is_leap_year(year):\n",
    "    if year % 4 == 0 and year % 100 != 0:\n",
    "        return True\n",
    "    else:\n",
    "        return year % 400 == 0\n",
    "\n",
    "for year in range(2000, 2020 + 1):\n",
    "    result = is_leap_year(year)\n",
    "    print(\"{} {}\".format(year, result))"
   ]
  },
  {
   "cell_type": "code",
   "execution_count": 278,
   "metadata": {
    "collapsed": true
   },
   "outputs": [],
   "source": [
    "squared = lambda x: x**2"
   ]
  },
  {
   "cell_type": "code",
   "execution_count": 279,
   "metadata": {
    "collapsed": false
   },
   "outputs": [
    {
     "data": {
      "text/plain": [
       "function"
      ]
     },
     "execution_count": 279,
     "metadata": {},
     "output_type": "execute_result"
    }
   ],
   "source": [
    "type(squared)"
   ]
  },
  {
   "cell_type": "code",
   "execution_count": 280,
   "metadata": {
    "collapsed": false
   },
   "outputs": [
    {
     "data": {
      "text/plain": [
       "4"
      ]
     },
     "execution_count": 280,
     "metadata": {},
     "output_type": "execute_result"
    }
   ],
   "source": [
    "squared(2)"
   ]
  },
  {
   "cell_type": "markdown",
   "metadata": {},
   "source": [
    "## Input and output\n",
    "\n",
    "- The `print` function is useful for displaying text (and other values converted to text).\n",
    "- In Python 2 `print` is a special keyword. In Python 3 it is a function defined in the builtins.\n",
    "- Fancy string formatting can be done with the format method on strings. Older Python code uses the string interpolation operator for the same task `%`, but its use is now discouraged.\n",
    "- Files must be opened before than can be manipulated. A file can be opened in different modes: read `\"r\"`, write `\"w\"`, read `\"r+\"`, and append `\"a\"`.  Opening a new file in write or append modes creates a new file. Opening an existing file in write mode overwrites its contents from the start. Opening an existing file in append mode adds new content at the end of the old content.\n",
    "- When you are finished processing a file you should close it as soon as possible. Closing a file releases limited operating system resources, and ensures that any pending buffered writes a flushed to the storage system.\n",
    "- Certain file types have libraries for convenient processing. One example is the `csv` (comma separated values) library for processing tabular data. It is very handy for working with spreadsheets.\n",
    "- The command line arguments of a Python program are contained in a list called `sys.argv` (it is a variable exported from the sys module). For complex program you should consider using a command line argument parsing library such as [argparse](https://docs.python.org/3/library/argparse.html).\n"
   ]
  },
  {
   "cell_type": "markdown",
   "metadata": {},
   "source": [
    "```\n",
    "# Count the number of words and lines in a file\n",
    "\n",
    "import sys\n",
    "\n",
    "# Get the input file name from the command line arguments\n",
    "filename = sys.argv[1]\n",
    "\n",
    "# Open the file\n",
    "file = open(filename)\n",
    "\n",
    "# Count the number of lines in the file\n",
    "num_lines = 0\n",
    "num_words = 0\n",
    "\n",
    "for line in file:\n",
    "    num_lines += 1\n",
    "    num_words += len(line.split())\n",
    "\n",
    "file.close()\n",
    "\n",
    "print(\"Number of lines and words in {}: {} {}\" \\\n",
    "        .format(filename, num_lines, num_words))\n",
    "```"
   ]
  },
  {
   "cell_type": "markdown",
   "metadata": {},
   "source": [
    "## Advanced topics"
   ]
  },
  {
   "cell_type": "markdown",
   "metadata": {},
   "source": [
    "### Comprehensions\n",
    "\n",
    "- Comprehensions provide concise syntax for building collections such as lists, dictionaries and sets"
   ]
  },
  {
   "cell_type": "code",
   "execution_count": 318,
   "metadata": {
    "collapsed": false
   },
   "outputs": [
    {
     "data": {
      "text/plain": [
       "[25, 36, 49, 64, 81]"
      ]
     },
     "execution_count": 318,
     "metadata": {},
     "output_type": "execute_result"
    }
   ],
   "source": [
    "# a list comprehension\n",
    "[x ** 2 for x in range(10) if x > 4]"
   ]
  },
  {
   "cell_type": "code",
   "execution_count": 320,
   "metadata": {
    "collapsed": false
   },
   "outputs": [
    {
     "data": {
      "text/plain": [
       "{' ', 'a', 'c', 'f', 'l', 's', 't'}"
      ]
     },
     "execution_count": 320,
     "metadata": {},
     "output_type": "execute_result"
    }
   ],
   "source": [
    "# a set comprehension\n",
    "{ char for char in \"fat cat sat flat\"}"
   ]
  },
  {
   "cell_type": "code",
   "execution_count": 321,
   "metadata": {
    "collapsed": false
   },
   "outputs": [
    {
     "data": {
      "text/plain": [
       "{0: True,\n",
       " 1: False,\n",
       " 2: True,\n",
       " 3: False,\n",
       " 4: True,\n",
       " 5: False,\n",
       " 6: True,\n",
       " 7: False,\n",
       " 8: True,\n",
       " 9: False}"
      ]
     },
     "execution_count": 321,
     "metadata": {},
     "output_type": "execute_result"
    }
   ],
   "source": [
    "# a dictionary comprehension\n",
    "{ n: n % 2 == 0 for n in range (10)}"
   ]
  },
  {
   "cell_type": "markdown",
   "metadata": {},
   "source": [
    "### Classes\n",
    "\n",
    "- Classes allow you to define your own types.\n",
    "- Class definitions may define methods for the type.\n",
    "- A class may inherit, and possibly override, some functionality from a superclass.\n",
    "- Syntax:\n",
    "```Python\n",
    "class variable(superclass_list):\n",
    "    body\n",
    "```\n",
    "- The name of the class is given by the variable in the definition. The superclass list defines the superclasses of the new class (very often the base type object is used). The body of the class typically defines one or more methods.\n",
    "- Instances of classes are created by calling the class name as if it were a function.\n",
    "- If defined, the special method called `__init__` is used to initialise a newly created instance of a class.\n",
    "- The first parameter to each method is the object upon which the method was called. The convention is to use the variable called `self`, however any variable name will do. Many object oriented languages make this variable an implicit parameter called `this`."
   ]
  },
  {
   "cell_type": "code",
   "execution_count": 281,
   "metadata": {
    "collapsed": true
   },
   "outputs": [],
   "source": [
    "from math import sqrt, acos\n",
    "\n",
    "class Vector(object):\n",
    "    def __init__(self, x=0, y=0, z=0):\n",
    "        self.x = x\n",
    "        self.y = y\n",
    "        self.z = z\n",
    "\n",
    "    def magnitude(self):\n",
    "        return sqrt(self.x ** 2 + self.y ** 2 + self.z ** 2)\n",
    "\n",
    "    def normalise(self):\n",
    "        magnitude = self.magnitude()\n",
    "        if magnitude == 0:\n",
    "            # Somehow we have a degenerate vector.\n",
    "            return self\n",
    "        else:\n",
    "            return self / self.magnitude()\n",
    "\n",
    "    def angle(self, other):\n",
    "        dp = self.dot_product(other)\n",
    "        return acos(dp / self.magnitude() * other.magnitude())\n",
    "\n",
    "    def dot_product(self, other):\n",
    "        return self.x * other.x + self.y * other.y + self.z * other.z"
   ]
  },
  {
   "cell_type": "code",
   "execution_count": 282,
   "metadata": {
    "collapsed": true
   },
   "outputs": [],
   "source": [
    "v1 = Vector(0.0, 0.0, 0.0)"
   ]
  },
  {
   "cell_type": "code",
   "execution_count": 283,
   "metadata": {
    "collapsed": true
   },
   "outputs": [],
   "source": [
    "v2 = Vector(1.0, 2.0, 3.0)"
   ]
  },
  {
   "cell_type": "code",
   "execution_count": 284,
   "metadata": {
    "collapsed": true
   },
   "outputs": [],
   "source": [
    "v3 = Vector(10.0, 12.0, -3.0)"
   ]
  },
  {
   "cell_type": "code",
   "execution_count": 285,
   "metadata": {
    "collapsed": false
   },
   "outputs": [
    {
     "data": {
      "text/plain": [
       "0.0"
      ]
     },
     "execution_count": 285,
     "metadata": {},
     "output_type": "execute_result"
    }
   ],
   "source": [
    "v1.magnitude()"
   ]
  },
  {
   "cell_type": "code",
   "execution_count": 286,
   "metadata": {
    "collapsed": false
   },
   "outputs": [
    {
     "data": {
      "text/plain": [
       "3.7416573867739413"
      ]
     },
     "execution_count": 286,
     "metadata": {},
     "output_type": "execute_result"
    }
   ],
   "source": [
    "v2.magnitude()"
   ]
  },
  {
   "cell_type": "code",
   "execution_count": 287,
   "metadata": {
    "collapsed": false
   },
   "outputs": [
    {
     "data": {
      "text/plain": [
       "25.0"
      ]
     },
     "execution_count": 287,
     "metadata": {},
     "output_type": "execute_result"
    }
   ],
   "source": [
    "v3.dot_product(v2)"
   ]
  },
  {
   "cell_type": "markdown",
   "metadata": {},
   "source": [
    "### Exceptions\n",
    "\n",
    "- Exceptions allow Python programs to handle erroneous program conditions.\n",
    "- An exception is raised (or thrown) at the point of the error and handled (or caught) at some other place in the program.\n",
    "- Exception handlers have the syntax:\n",
    "```Python\n",
    "try:\n",
    "    statement_block\n",
    "except exception_type as variable:\n",
    "    statement_block\n",
    "...\n",
    "```\n",
    "- The statement block after `try` is executed. If no exceptions are raised in that block the program continues immediately after the exception handler. If an exception is raised in the block then program control jumps to the innermost closing except clause. Except clauses may optionally specify the set of exception types that they can handle. If the raised exception is an instance of the handled type then the body of the except clause is executed, otherwise the next except clause (if any) is tried.\n",
    "- If no matching exception handler is found then the program will terminate with an unhandled exception error. Python will normally print a stack trace at this point for error diagnosis.\n",
    "- You may raise your own exceptions using the `raise` keyword.\n"
   ]
  },
  {
   "cell_type": "code",
   "execution_count": 288,
   "metadata": {
    "collapsed": false
   },
   "outputs": [
    {
     "name": "stdout",
     "output_type": "stream",
     "text": [
      "1 7\n",
      "2 1\n",
      "3 3\n",
      "4 3\n"
     ]
    }
   ],
   "source": [
    "# alternative version of the histogram code from the section on dictionaries\n",
    "\n",
    "integers = [1, 3, 4, 1, 1, 4, 3, 4, 3, 1, 1, 1, 1, 2]\n",
    "\n",
    "histogram = {}\n",
    "\n",
    "# Iterate over each integer\n",
    "for next_integer in integers:\n",
    "    try:\n",
    "        histogram[next_integer] += 1\n",
    "    except KeyError:\n",
    "        histogram[next_integer] = 1\n",
    "\n",
    "# Print each key: value pair in the histogram in ascending\n",
    "# sorted order of keys\n",
    "for key in sorted(histogram):\n",
    "    print(\"{} {}\".format(key, histogram[key]))"
   ]
  },
  {
   "cell_type": "markdown",
   "metadata": {},
   "source": [
    "### Modules\n",
    "\n",
    "- A module is a file which contains Python code.\n",
    "- Any Python file you create is automatically a module.\n",
    "- It is considered good programming style to decompose complex programs into multiple modules. Each module should collect together code with similar purpose.\n",
    "- Variables defined at the top level of a module (such as global variables, functions and classes) can be imported into other modules.\n",
    "- Python comes with many [standard modules](https://docs.python.org/3/library/).\n",
    "- The `import` keyword is used to import an entire module.\n",
    "- You may import a subset of things from a module using the `from ... import ...` syntax.\n",
    "- You may import a module with a new name using the `from ... import ... as ...` or `import ... as ...`.\n",
    "- When a module is first imported in a program, all of its top-level statements are executed from top to bottom.  Subsequent imports use a cached version of its definitions, its statements are not re-executed.\n",
    "- A special module called `builtins` is imported into every other module by default, and it is automatically imported at the interactive prompt in the interpreter.\n",
    "- [Numpy](http://www.numpy.org/) and [Scipy](http://www.scipy.org/) are popular libraries for numerical and scientific computing. They are not part of the standard Python library, so you must install them separately. "
   ]
  },
  {
   "cell_type": "code",
   "execution_count": 289,
   "metadata": {
    "collapsed": true
   },
   "outputs": [],
   "source": [
    "import math"
   ]
  },
  {
   "cell_type": "code",
   "execution_count": 290,
   "metadata": {
    "collapsed": false
   },
   "outputs": [
    {
     "data": {
      "text/plain": [
       "10.0"
      ]
     },
     "execution_count": 290,
     "metadata": {},
     "output_type": "execute_result"
    }
   ],
   "source": [
    "math.sqrt(100)"
   ]
  },
  {
   "cell_type": "code",
   "execution_count": 291,
   "metadata": {
    "collapsed": true
   },
   "outputs": [],
   "source": [
    "from math import sqrt"
   ]
  },
  {
   "cell_type": "code",
   "execution_count": 292,
   "metadata": {
    "collapsed": false
   },
   "outputs": [
    {
     "data": {
      "text/plain": [
       "10.0"
      ]
     },
     "execution_count": 292,
     "metadata": {},
     "output_type": "execute_result"
    }
   ],
   "source": [
    "sqrt(100)"
   ]
  },
  {
   "cell_type": "code",
   "execution_count": 293,
   "metadata": {
    "collapsed": true
   },
   "outputs": [],
   "source": [
    "import math as m"
   ]
  },
  {
   "cell_type": "code",
   "execution_count": 294,
   "metadata": {
    "collapsed": false
   },
   "outputs": [
    {
     "data": {
      "text/plain": [
       "10.0"
      ]
     },
     "execution_count": 294,
     "metadata": {},
     "output_type": "execute_result"
    }
   ],
   "source": [
    "m.sqrt(100)"
   ]
  },
  {
   "cell_type": "markdown",
   "metadata": {},
   "source": [
    "### Packages\n",
    "\n",
    "- A package is a collection of modules in a hierarchy.\n",
    "- Packages are the common way to structure Python libraries.\n",
    "- The [Python Package Index (PyPI)](https://pypi.python.org/pypi) is a big collection of open source packages contributed by the Python community (more than 64 thousand packages at the time of writing).\n",
    "- Package installation tools such as `pip`, make it easy to install packages onto your computer.\n",
    "- If you want to make your own Python code easy for others to install and use then you should consider making it a package. You can even upload it to PyPI.\n",
    "- Many people use `virtualenv` to install packages into a local *sandboxed* Python environment. This avoids conflicts with the central Python package database on your computer, and allows multiple different versions of packages to be used."
   ]
  },
  {
   "cell_type": "markdown",
   "metadata": {},
   "source": [
    "### Plotting graphs\n",
    "\n",
    "- The most popular graph plotting library is [matplotlib](www.matplotlib.org)\n",
    "- Matplotlib can be used in a number of ways, but perhaps the most basic is via [pyplot](http://matplotlib.org/users/pyplot_tutorial.html)\n",
    "- IPython (Jupyter) has special support for plotting graphs inline with matplotlib; use the command `%matplotlib inline` before you start plotting (note that is a special IPython command, it is not Python code)"
   ]
  },
  {
   "cell_type": "code",
   "execution_count": 295,
   "metadata": {
    "collapsed": true
   },
   "outputs": [],
   "source": [
    "%matplotlib inline"
   ]
  },
  {
   "cell_type": "code",
   "execution_count": 296,
   "metadata": {
    "collapsed": false
   },
   "outputs": [
    {
     "data": {
      "text/plain": [
       "<matplotlib.text.Text at 0x10eab50d0>"
      ]
     },
     "execution_count": 296,
     "metadata": {},
     "output_type": "execute_result"
    },
    {
     "data": {
      "image/png": "[encoded data removed]",
      "text/plain": [
       "<matplotlib.figure.Figure at 0x109ef7510>"
      ]
     },
     "metadata": {},
     "output_type": "display_data"
    }
   ],
   "source": [
    "import matplotlib.pyplot as plt\n",
    "plt.plot([8, 12, -2, 100])\n",
    "plt.ylabel('an example')"
   ]
  },
  {
   "cell_type": "code",
   "execution_count": 297,
   "metadata": {
    "collapsed": false
   },
   "outputs": [
    {
     "data": {
      "text/plain": [
       "[<matplotlib.lines.Line2D at 0x10ec2bcd0>]"
      ]
     },
     "execution_count": 297,
     "metadata": {},
     "output_type": "execute_result"
    },
    {
     "data": {
      "image/png": "[encoded data removed]",
      "text/plain": [
       "<matplotlib.figure.Figure at 0x10e4a71d0>"
      ]
     },
     "metadata": {},
     "output_type": "display_data"
    }
   ],
   "source": [
    "# This example is taken from the pyplot tutorial http://matplotlib.org/users/pyplot_tutorial.html\n",
    "import numpy as np\n",
    "\n",
    "def f(t):\n",
    "    return np.exp(-t) * np.cos(2*np.pi*t)\n",
    "\n",
    "t1 = np.arange(0.0, 5.0, 0.1)\n",
    "t2 = np.arange(0.0, 5.0, 0.02)\n",
    "\n",
    "plt.figure(1)\n",
    "plt.subplot(211)\n",
    "plt.plot(t1, f(t1), 'bo', t2, f(t2), 'k')\n",
    "\n",
    "plt.subplot(212)\n",
    "plt.plot(t2, np.cos(2*np.pi*t2), 'r--')"
   ]
  }
 ],
 "metadata": {
  "kernelspec": {
   "display_name": "Python 2",
   "language": "python",
   "name": "python2"
  },
  "language_info": {
   "codemirror_mode": {
    "name": "ipython",
    "version": 2
   },
   "file_extension": ".py",
   "mimetype": "text/x-python",
   "name": "python",
   "nbconvert_exporter": "python",
   "pygments_lexer": "ipython2",
   "version": "2.7.9"
  }
 },
 "nbformat": 4,
 "nbformat_minor": 0
}
